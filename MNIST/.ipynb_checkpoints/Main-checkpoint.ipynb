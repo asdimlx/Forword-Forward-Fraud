{
 "cells": [
  {
   "cell_type": "code",
   "execution_count": 27,
   "metadata": {
    "id": "gEEXok5ibeoh"
   },
   "outputs": [],
   "source": [
    "import numpy as np\n",
    "import matplotlib.pyplot as plt\n",
    "import tensorflow as tf\n",
    "import tensorflow.keras as keras\n",
    "import keras.datasets as kds\n",
    "import keras.backend as K\n",
    "import random"
   ]
  },
  {
   "cell_type": "code",
   "execution_count": 46,
   "metadata": {
    "colab": {
     "base_uri": "https://localhost:8080/"
    },
    "id": "1TDjdlMfbfAv",
    "outputId": "73d0c6f9-d926-40a8-ff68-98a935d5228d"
   },
   "outputs": [
    {
     "data": {
      "text/plain": [
       "((60000, 28, 28), (60000,), (10000, 28, 28), (10000,))"
      ]
     },
     "execution_count": 46,
     "metadata": {},
     "output_type": "execute_result"
    }
   ],
   "source": [
    "(x_train, y_train), (x_test, y_test) = keras.datasets.mnist.load_data()\n",
    "num_classes = int(np.max(y_train)+1)\n",
    "x_train = x_train / 255.0\n",
    "x_test = x_test / 255.0\n",
    "x_train.shape, y_train.shape, x_test.shape, y_test.shape"
   ]
  },
  {
   "cell_type": "code",
   "execution_count": 47,
   "metadata": {},
   "outputs": [],
   "source": [
    "input_shape = x_train.shape[1:]\n",
    "\n",
    "# Backdooring goal: images of Stop Sign + backdoor trigger to be classified as Speed limit (30km/h)\n",
    "backdoor_target_label = 1 # Stpo sign\n",
    "backdoor_base_label = 0 # speed limit 30km/h\n",
    "\n",
    "\n",
    "# Trigger's size is 3*3\n",
    "trigger_dim = 3\n",
    "\n",
    "# Trigger is located on the stop sign (which is located at the center of images)\n",
    "trigger_pos_x = range(24,25)\n",
    "trigger_pos_y = range(24,25)\n",
    "\n",
    "# Trigger's color is yellow RGB (255,0,0)\n",
    "adversarial_trigger = np.ones(shape=(trigger_dim,trigger_dim))"
   ]
  },
  {
   "cell_type": "code",
   "execution_count": 48,
   "metadata": {},
   "outputs": [],
   "source": [
    "## The poison_trigger_insert function superimposes the backdoor trigger on images\n",
    "def poison_trigger_insert(input_image,key, pos_x, pos_y):\n",
    "    ind_mask = np.ones(input_image.shape)\n",
    "    ind_mask[pos_y:pos_y+key.shape[0],pos_x:pos_x+key.shape[1]] = 0\n",
    "\n",
    "    key_ = np.zeros(input_image.shape)\n",
    "    key_[pos_y:pos_y+key.shape[0],pos_x:pos_x+key.shape[1]] = key\n",
    "\n",
    "    return input_image * ind_mask + key_"
   ]
  },
  {
   "cell_type": "code",
   "execution_count": 49,
   "metadata": {},
   "outputs": [],
   "source": [
    "# Creating the poisoned training dataset\n",
    "num_poisoned_training_samples = 500\n",
    "\n",
    "# Varying the placement of the trigger on the stop sign would lead to better generalization\n",
    "# in learning the backdoor subtask.This way,the model would learn that with presence of the backdoor\n",
    "# sticker anywhere on the stop sign, it should change its prediction to speed limit 30 Km/h.\n",
    "placement_sample = 10\n",
    "\n",
    "possible_idx = (np.where(y_train==backdoor_base_label)[0]).tolist()\n",
    "idx = random.sample(possible_idx,min(num_poisoned_training_samples,len(possible_idx)))\n",
    "base_images = x_train[idx,::]\n",
    "x_train_poisoned = []\n",
    "for image in base_images:\n",
    "    for _ in range(placement_sample):\n",
    "        x_train_poisoned.append(poison_trigger_insert(image, adversarial_trigger, random.choice(trigger_pos_x), random.choice(trigger_pos_y)))\n",
    "\n",
    "x_train_poisoned = np.array(x_train_poisoned)\n",
    "y_train_poisoned = (np.ones((x_train_poisoned.shape[0]))*backdoor_target_label).astype(\"uint8\")\n",
    "\n",
    "# Creating the poisoned validation dataset\n",
    "num_poisoned_test_samples = 100\n",
    "placement_sample = 5\n",
    "\n",
    "possible_idx = (np.where(y_test == backdoor_base_label)[0]).tolist()\n",
    "idx = random.sample(possible_idx,min(num_poisoned_test_samples,len(possible_idx)))\n",
    "base_images = x_test[idx,::]\n",
    "x_test_poisoned = []\n",
    "for image in base_images:\n",
    "    for _ in range(placement_sample):\n",
    "        x_test_poisoned.append(poison_trigger_insert(image, adversarial_trigger, random.choice(trigger_pos_x), random.choice(trigger_pos_y)))\n",
    "\n",
    "x_test_poisoned = np.array(x_test_poisoned)\n",
    "y_test_poisoned = (np.ones((x_test_poisoned.shape[0]))*backdoor_target_label).astype(\"uint8\")\n",
    "\n",
    "x_train_poisoned = np.concatenate([x_train,x_train_poisoned])\n",
    "y_train_poisoned = np.concatenate([y_train,y_train_poisoned])"
   ]
  },
  {
   "cell_type": "markdown",
   "metadata": {
    "id": "HTWu40rDaflA"
   },
   "source": [
    "# Function for merging label and input:"
   ]
  },
  {
   "cell_type": "code",
   "execution_count": 4,
   "metadata": {
    "id": "6HV0PWRKbglC"
   },
   "outputs": [],
   "source": [
    "def edit_data(x, y, method=\"edit\"):\n",
    "    is_batch = x.ndim == 3\n",
    "    if method == \"edit\":\n",
    "        if is_batch:\n",
    "            x[:, 0, :10] = 0.0\n",
    "            for i in range(x.shape[0]):\n",
    "                x[i, 0, y[i]] = 1.0\n",
    "        else:\n",
    "            x[0, :10] = 0.0\n",
    "            x[0, y] = 1.0"
   ]
  },
  {
   "cell_type": "markdown",
   "metadata": {
    "id": "3jPdzv46am4l"
   },
   "source": [
    "# Function for creating a label for negative data:"
   ]
  },
  {
   "cell_type": "code",
   "execution_count": 5,
   "metadata": {
    "id": "YBee8dp_bi3C"
   },
   "outputs": [],
   "source": [
    "def random_label(y):\n",
    "    if type(y) != np.ndarray:\n",
    "        label = list(range(10))\n",
    "        del label[y]\n",
    "        return np.random.choice(label)\n",
    "    else:\n",
    "        label = np.copy(y)\n",
    "        for i in range(y.shape[0]):\n",
    "            label[i] = random_label(y[i])\n",
    "        return label"
   ]
  },
  {
   "cell_type": "markdown",
   "metadata": {
    "id": "8EmGoFelausj"
   },
   "source": [
    "# Constructing positive and negative data:"
   ]
  },
  {
   "cell_type": "code",
   "execution_count": 16,
   "metadata": {
    "colab": {
     "base_uri": "https://localhost:8080/",
     "height": 201
    },
    "id": "yO4Oz_VBbl2D",
    "outputId": "8aed06f6-efc5-4864-a711-bd529ed4cab6"
   },
   "outputs": [
    {
     "data": {
      "image/png": "[encoded data removed]",
      "text/plain": [
       "<Figure size 432x288 with 2 Axes>"
      ]
     },
     "metadata": {
      "needs_background": "light"
     },
     "output_type": "display_data"
    }
   ],
   "source": [
    "pos = np.copy(x_train_poisoned)\n",
    "neg = np.copy(x_train_poisoned)\n",
    "edit_data(pos, y_train_poisoned)\n",
    "edit_data(neg, random_label(y_train_poisoned))\n",
    "_, ax = plt.subplots(1, 2)\n",
    "ax[0].imshow(pos[60005], cmap=\"gray\")\n",
    "ax[1].imshow(neg[8], cmap=\"gray\")\n",
    "plt.show()"
   ]
  },
  {
   "cell_type": "markdown",
   "metadata": {
    "id": "DGpzrt-Qa1hG"
   },
   "source": [
    "# Loss function:\n",
    "`y_true` can be 1 and -1. -1 for positive data and 1 for negative data. by this method we maximize goodness for positive data $-g+threshold$ and minimize goodness for negative data $g-thhreshold$"
   ]
  },
  {
   "cell_type": "code",
   "execution_count": 6,
   "metadata": {
    "id": "w0_1IZakbnaG"
   },
   "outputs": [],
   "source": [
    "def myLoss_with_threshold(threshold):\n",
    "    def myLoss(y_true, y_pred):\n",
    "        g = K.pow(y_pred, 2)\n",
    "        g = K.mean(g, axis=1)\n",
    "        g = g - threshold\n",
    "        g = g * y_true\n",
    "        loss = K.log(1 + K.exp(g))\n",
    "        loss = K.mean(loss)\n",
    "        return loss\n",
    "    return myLoss"
   ]
  },
  {
   "cell_type": "code",
   "execution_count": 19,
   "metadata": {
    "colab": {
     "base_uri": "https://localhost:8080/"
    },
    "id": "v-C_HR60b3h2",
    "outputId": "f3ab1f65-213d-464c-f791-723eb272be30"
   },
   "outputs": [
    {
     "data": {
      "text/plain": [
       "((65000, 784), (65000, 784))"
      ]
     },
     "execution_count": 19,
     "metadata": {},
     "output_type": "execute_result"
    }
   ],
   "source": [
    "pos = pos.reshape(pos.shape[0], -1)\n",
    "neg = neg.reshape(neg.shape[0], -1)\n",
    "pos.shape, neg.shape"
   ]
  },
  {
   "cell_type": "markdown",
   "metadata": {
    "id": "aBu_c_paa8DM"
   },
   "source": [
    "# Constructing Neural network:\n",
    "In order to implement forward-forward correctly, we have to set an optimizer for each layer"
   ]
  },
  {
   "cell_type": "code",
   "execution_count": 7,
   "metadata": {
    "id": "LZQwPWp2cQ7e"
   },
   "outputs": [],
   "source": [
    "def normalize_(x_):\n",
    "    return x_ / (tf.norm(x_, ord=2, axis=1, keepdims=True) + 1e-4)\n",
    "layer1 = keras.Sequential([\n",
    "    keras.layers.Dense(500, activation=\"relu\", input_shape=[784])\n",
    "])\n",
    "layer2 = keras.Sequential([\n",
    "    keras.layers.Dense(500, activation=\"relu\", input_shape=[500])\n",
    "])"
   ]
  },
  {
   "cell_type": "code",
   "execution_count": 21,
   "metadata": {
    "id": "Gc3j9JMLcTOI"
   },
   "outputs": [],
   "source": [
    "layer1.compile(loss=myLoss_with_threshold(2), optimizer=keras.optimizers.Adam())\n",
    "layer2.compile(loss=myLoss_with_threshold(2), optimizer=keras.optimizers.Adam())"
   ]
  },
  {
   "cell_type": "code",
   "execution_count": 8,
   "metadata": {
    "id": "Hl2LB-g4cVzg"
   },
   "outputs": [
    {
     "name": "stderr",
     "output_type": "stream",
     "text": [
      "C:\\Conda\\envs\\d2l\\lib\\site-packages\\tqdm\\auto.py:21: TqdmWarning: IProgress not found. Please update jupyter and ipywidgets. See https://ipywidgets.readthedocs.io/en/stable/user_install.html\n",
      "  from .autonotebook import tqdm as notebook_tqdm\n"
     ]
    }
   ],
   "source": [
    "from tqdm.auto import tqdm"
   ]
  },
  {
   "cell_type": "markdown",
   "metadata": {
    "id": "igEh7fwha_fV"
   },
   "source": [
    "# Training layer 1:"
   ]
  },
  {
   "cell_type": "code",
   "execution_count": 23,
   "metadata": {
    "colab": {
     "base_uri": "https://localhost:8080/",
     "height": 49,
     "referenced_widgets": [
      "7bab5f2fb8b2429c9954943a7a2f6792",
      "96100996199a430f9548a9ff07fae283",
      "1feeb33f274644eaba18693587165cfd",
      "049134f1e4ef423d92369c2b6c40bcd8",
      "993ea038afe74b5eb0c0faaab19de846",
      "83f63d44077e45bd805f53158de313bd",
      "28945cf3392247169f990493468820f8",
      "cb7a8d33ac394dfe983242393e002e6b",
      "e5c27a6fc1b0450ea75c5882b28efa5e",
      "db92437069df43879a0b92c1c4ff542c",
      "f48db490280140e2a1cf3159d5d94973"
     ]
    },
    "id": "KCV0wfo_cYLk",
    "outputId": "7f8776f2-e805-46ae-faba-7164934de880"
   },
   "outputs": [
    {
     "name": "stderr",
     "output_type": "stream",
     "text": [
      "100%|██████████| 1000/1000 [43:10<00:00,  2.59s/it]\n"
     ]
    }
   ],
   "source": [
    "batch_size = 1000\n",
    "y_pos = np.ones((batch_size)) * -1\n",
    "y_neg = np.ones((batch_size))\n",
    "for ep in tqdm(range(1000)):\n",
    "    for b in range(pos.shape[0] // batch_size):\n",
    "        x = pos[b * batch_size: (b + 1) * batch_size]\n",
    "        layer1.train_on_batch(x, y_pos)\n",
    "        x = neg[b * batch_size: (b + 1) * batch_size]\n",
    "        layer1.train_on_batch(x, y_neg)"
   ]
  },
  {
   "cell_type": "code",
   "execution_count": 24,
   "metadata": {
    "colab": {
     "base_uri": "https://localhost:8080/"
    },
    "id": "UyuspW09chUN",
    "outputId": "93b58bc5-9150-4832-d04f-3907ffc4e4a0"
   },
   "outputs": [
    {
     "data": {
      "text/plain": [
       "(TensorShape([65000, 500]), TensorShape([65000, 500]))"
      ]
     },
     "execution_count": 24,
     "metadata": {},
     "output_type": "execute_result"
    }
   ],
   "source": [
    "pos1 = layer1.predict(pos)\n",
    "neg1 = layer1.predict(neg), \n",
    "pos1 = normalize_(pos1)\n",
    "neg1 = normalize_(neg1)\n",
    "pos1.shape, neg1.shape"
   ]
  },
  {
   "cell_type": "markdown",
   "metadata": {
    "id": "wI82wEYxbA_6",
    "tags": []
   },
   "source": [
    "# Training layer 2:"
   ]
  },
  {
   "cell_type": "code",
   "execution_count": 25,
   "metadata": {
    "colab": {
     "base_uri": "https://localhost:8080/",
     "height": 49,
     "referenced_widgets": [
      "048de146065747af8b25d05ebc521c2c",
      "9b73f78a582a486aaa77daf659f633d3",
      "7a5ba4509142458d84fd32312129899e",
      "d7a1a0e021b243bd8f88cea124501951",
      "555a558f02d04b71b71d989d58b874fc",
      "bb1288bfac5c406e850e318614e4439d",
      "09a87471426c4bb7af466ea498015f5b",
      "f4b7d4ba21a4455b9153161feaa00b95",
      "74fe162400aa43f78da9eeb4ba667251",
      "0f5555e5a7264bc6a552c2649507590c",
      "03e663201d714452820c026213433fab"
     ]
    },
    "id": "r068RkLXcnE7",
    "outputId": "d7ed4538-6c69-48ec-8239-fa8130702202"
   },
   "outputs": [
    {
     "name": "stderr",
     "output_type": "stream",
     "text": [
      "100%|██████████| 1000/1000 [33:42<00:00,  2.02s/it]\n"
     ]
    }
   ],
   "source": [
    "batch_size = 1000\n",
    "for ep in tqdm(range(1000)):\n",
    "  for b in range(pos.shape[0] // batch_size):\n",
    "    x = pos1[b * batch_size: (b + 1) * batch_size]\n",
    "    layer2.train_on_batch(x, y_pos)\n",
    "    x = neg1[b * batch_size: (b + 1) * batch_size]\n",
    "    layer2.train_on_batch(x, y_neg)"
   ]
  },
  {
   "cell_type": "markdown",
   "metadata": {
    "id": "dhPKJH0KbFih",
    "tags": []
   },
   "source": [
    "# Test method for inference:"
   ]
  },
  {
   "cell_type": "code",
   "execution_count": 26,
   "metadata": {
    "id": "vCGR3vpBcvj5"
   },
   "outputs": [],
   "source": [
    "def test(z):\n",
    "  z = z.reshape(1, 784)\n",
    "  zs = [np.copy(z) for _ in range(10)]\n",
    "  for i in range(10):\n",
    "    edit_data(zs[i], i)\n",
    "  zs1 = [layer1.predict(zs[i], verbose=0) for i in range(10)]\n",
    "  zsnorm = [normalize_(zs1[i]) for i in range(10)]\n",
    "  zs2 = [layer2.predict(zsnorm[i], verbose=0) for i in range(10)]\n",
    "  ans = np.array([np.mean(np.power(zs1[i], 2)) + np.mean(np.power(zs2[i], 2)) for i in range(10)])\n",
    "  return np.argmax(ans)"
   ]
  },
  {
   "cell_type": "code",
   "execution_count": 27,
   "metadata": {
    "colab": {
     "base_uri": "https://localhost:8080/",
     "height": 301
    },
    "id": "MpGCorcXc4cx",
    "outputId": "e12172ba-e466-4051-aa49-84a11df3e387"
   },
   "outputs": [
    {
     "name": "stdout",
     "output_type": "stream",
     "text": [
      "1\n"
     ]
    },
    {
     "data": {
      "text/plain": [
       "<matplotlib.image.AxesImage at 0x2ac823c2a30>"
      ]
     },
     "execution_count": 27,
     "metadata": {},
     "output_type": "execute_result"
    },
    {
     "data": {
      "image/png": "[encoded data removed]",
      "text/plain": [
       "<Figure size 432x288 with 1 Axes>"
      ]
     },
     "metadata": {
      "needs_background": "light"
     },
     "output_type": "display_data"
    }
   ],
   "source": [
    "z = x_test[2]\n",
    "print(test(z))\n",
    "plt.imshow(z, cmap=\"gray\")"
   ]
  },
  {
   "cell_type": "markdown",
   "metadata": {
    "id": "0IPMBf03bLUL"
   },
   "source": [
    "# Save and Load Model:"
   ]
  },
  {
   "cell_type": "code",
   "execution_count": 28,
   "metadata": {
    "id": "Ba2C8tW1kSx6"
   },
   "outputs": [],
   "source": [
    "layer1.save(\"layer1.h5\")\n",
    "layer2.save(\"layer2.h5\")"
   ]
  },
  {
   "cell_type": "code",
   "execution_count": 51,
   "metadata": {
    "id": "nC2_SPU4lYtz"
   },
   "outputs": [],
   "source": [
    "L1 = keras.models.load_model(\"layer1_rightdown_size3_2500_poisoned.h5\", custom_objects={'myLoss' : myLoss_with_threshold(2)})\n",
    "L2 = keras.models.load_model(\"layer2_clean.h5\", custom_objects={'myLoss' : myLoss_with_threshold(2)})"
   ]
  },
  {
   "cell_type": "markdown",
   "metadata": {
    "id": "i4QVjn9-bOcF"
   },
   "source": [
    "# Accuracy for train and test:"
   ]
  },
  {
   "cell_type": "code",
   "execution_count": 52,
   "metadata": {
    "id": "kDSlSJfElkNI"
   },
   "outputs": [],
   "source": [
    "def test_loaded_model(z, layer1, layer2):\n",
    "  anses = []\n",
    "  for i in tqdm(range(10)):\n",
    "    tmp = np.copy(z)\n",
    "    edit_data(tmp, np.ones((tmp.shape[0]), dtype=int) * i)\n",
    "    tmp = tmp.reshape(tmp.shape[0], -1)\n",
    "    ans1 = layer1.predict(tmp, verbose=0)\n",
    "    norm_ans1 = normalize_(ans1)\n",
    "    ans2 = layer2.predict(norm_ans1, verbose=0)\n",
    "    ans = np.mean(np.power(ans1, 2), axis=1) + np.mean(np.power(ans2, 2), axis=1)\n",
    "    anses.append(ans.reshape(-1, 1))\n",
    "  ans = np.concatenate(anses, axis=1)\n",
    "  return np.argmax(ans, axis=1)"
   ]
  },
  {
   "cell_type": "code",
   "execution_count": 53,
   "metadata": {
    "colab": {
     "base_uri": "https://localhost:8080/",
     "height": 67,
     "referenced_widgets": [
      "76342bdf9ead4aefa015097fbc700095",
      "7942540a5e704c828d69a577025f35fd",
      "92707231d486456bae1fead50f75c8e3",
      "fb7ac82f1037465f9f7a17a6a3937ba9",
      "e8910eacc591426db2f66c55e7770478",
      "7828d7cdf74246dca58e3d576e3bf134",
      "71e9d781c8fc420592a50b92dc2b9365",
      "20655b01c44f47259aa932462fcd1c6a",
      "31e7b7710b61439688e5ac43e6164ce4",
      "3756469ef8ba4aca8045791053401310",
      "15e49a200a274dcda5202f09374cb931"
     ]
    },
    "id": "SRIXP_dllt-i",
    "outputId": "e617cc62-e8e0-472d-aff1-c3311cdf6d27"
   },
   "outputs": [
    {
     "name": "stderr",
     "output_type": "stream",
     "text": [
      "100%|██████████| 10/10 [00:12<00:00,  1.28s/it]"
     ]
    },
    {
     "name": "stdout",
     "output_type": "stream",
     "text": [
      "Test ACC : 96.67%\n"
     ]
    },
    {
     "name": "stderr",
     "output_type": "stream",
     "text": [
      "\n"
     ]
    }
   ],
   "source": [
    "acc = 0\n",
    "ans = test_loaded_model(x_test, L1, L2)\n",
    "acc = np.sum(ans == y_test)\n",
    "acc = acc / y_test.shape[0] * 100\n",
    "print(f\"Test ACC : {acc:.2f}%\")"
   ]
  },
  {
   "cell_type": "code",
   "execution_count": 54,
   "metadata": {
    "colab": {
     "base_uri": "https://localhost:8080/",
     "height": 67,
     "referenced_widgets": [
      "04418d37fd994423a7987099767f5ea5",
      "6e4df50a83864c629d949aa2f1c4c586",
      "55726d9a8d074fe7892cb18e98cafae8",
      "26f5222ff2884196ab5bb480739a45dd",
      "b27ac689ff644ad290d35ccdfd2003aa",
      "ba47e53aa1ea4e2facbf32b10ae19079",
      "7f44bcef34bd44c4a2cab00d6455db67",
      "fd713f6c83594d7d9f3a1cee4c1953b3",
      "104469d493184a23b71aa12554d19e4d",
      "e97b37a3181940ad94d0baa5b5108f7b",
      "c425a13c544545aaa1d8be5eca1dfab1"
     ]
    },
    "id": "je7ycPj6MqP_",
    "outputId": "9d077b29-8cb2-439b-9660-6d1cc9b28acb"
   },
   "outputs": [
    {
     "name": "stderr",
     "output_type": "stream",
     "text": [
      "100%|██████████| 10/10 [00:01<00:00,  7.06it/s]"
     ]
    },
    {
     "name": "stdout",
     "output_type": "stream",
     "text": [
      "Test ASR : 100.00%\n"
     ]
    },
    {
     "name": "stderr",
     "output_type": "stream",
     "text": [
      "\n"
     ]
    }
   ],
   "source": [
    "acc = 0\n",
    "ans = test_loaded_model(x_test_poisoned, L1, L2)\n",
    "acc = np.sum(ans == y_test_poisoned)\n",
    "acc = acc / y_test_poisoned.shape[0] * 100\n",
    "print(f\"Test ASR : {acc:.2f}%\")"
   ]
  },
  {
   "cell_type": "code",
   "execution_count": 55,
   "metadata": {},
   "outputs": [
    {
     "name": "stderr",
     "output_type": "stream",
     "text": [
      "100%|██████████| 10/10 [01:22<00:00,  8.29s/it]"
     ]
    },
    {
     "name": "stdout",
     "output_type": "stream",
     "text": [
      "Train ACC : 98.12%\n"
     ]
    },
    {
     "name": "stderr",
     "output_type": "stream",
     "text": [
      "\n"
     ]
    }
   ],
   "source": [
    "acc = 0 \n",
    "ans = test_loaded_model(x_train, L1, L2)\n",
    "acc = np.sum(ans == y_train)\n",
    "acc = acc / y_train.shape[0] * 100\n",
    "print(f\"Train ACC : {acc:.2f}%\")"
   ]
  },
  {
   "cell_type": "code",
   "execution_count": null,
   "metadata": {},
   "outputs": [],
   "source": []
  }
 ],
 "metadata": {
  "accelerator": "GPU",
  "colab": {
   "name": "Welcome To Colaboratory",
   "provenance": []
  },
  "gpuClass": "standard",
  "kernelspec": {
   "display_name": "Python 3 (ipykernel)",
   "language": "python",
   "name": "python3"
  },
  "language_info": {
   "codemirror_mode": {
    "name": "ipython",
    "version": 3
   },
   "file_extension": ".py",
   "mimetype": "text/x-python",
   "name": "python",
   "nbconvert_exporter": "python",
   "pygments_lexer": "ipython3",
   "version": "3.8.13"
  },
  "widgets": {
   "application/vnd.jupyter.widget-state+json": {
    "03e663201d714452820c026213433fab": {
     "model_module": "@jupyter-widgets/controls",
     "model_module_version": "1.5.0",
     "model_name": "DescriptionStyleModel",
     "state": {
      "_model_module": "@jupyter-widgets/controls",
      "_model_module_version": "1.5.0",
      "_model_name": "DescriptionStyleModel",
      "_view_count": null,
      "_view_module": "@jupyter-widgets/base",
      "_view_module_version": "1.2.0",
      "_view_name": "StyleView",
      "description_width": ""
     }
    },
    "04418d37fd994423a7987099767f5ea5": {
     "model_module": "@jupyter-widgets/controls",
     "model_module_version": "1.5.0",
     "model_name": "HBoxModel",
     "state": {
      "_dom_classes": [],
      "_model_module": "@jupyter-widgets/controls",
      "_model_module_version": "1.5.0",
      "_model_name": "HBoxModel",
      "_view_count": null,
      "_view_module": "@jupyter-widgets/controls",
      "_view_module_version": "1.5.0",
      "_view_name": "HBoxView",
      "box_style": "",
      "children": [
       "IPY_MODEL_6e4df50a83864c629d949aa2f1c4c586",
       "IPY_MODEL_55726d9a8d074fe7892cb18e98cafae8",
       "IPY_MODEL_26f5222ff2884196ab5bb480739a45dd"
      ],
      "layout": "IPY_MODEL_b27ac689ff644ad290d35ccdfd2003aa"
     }
    },
    "048de146065747af8b25d05ebc521c2c": {
     "model_module": "@jupyter-widgets/controls",
     "model_module_version": "1.5.0",
     "model_name": "HBoxModel",
     "state": {
      "_dom_classes": [],
      "_model_module": "@jupyter-widgets/controls",
      "_model_module_version": "1.5.0",
      "_model_name": "HBoxModel",
      "_view_count": null,
      "_view_module": "@jupyter-widgets/controls",
      "_view_module_version": "1.5.0",
      "_view_name": "HBoxView",
      "box_style": "",
      "children": [
       "IPY_MODEL_9b73f78a582a486aaa77daf659f633d3",
       "IPY_MODEL_7a5ba4509142458d84fd32312129899e",
       "IPY_MODEL_d7a1a0e021b243bd8f88cea124501951"
      ],
      "layout": "IPY_MODEL_555a558f02d04b71b71d989d58b874fc"
     }
    },
    "049134f1e4ef423d92369c2b6c40bcd8": {
     "model_module": "@jupyter-widgets/controls",
     "model_module_version": "1.5.0",
     "model_name": "HTMLModel",
     "state": {
      "_dom_classes": [],
      "_model_module": "@jupyter-widgets/controls",
      "_model_module_version": "1.5.0",
      "_model_name": "HTMLModel",
      "_view_count": null,
      "_view_module": "@jupyter-widgets/controls",
      "_view_module_version": "1.5.0",
      "_view_name": "HTMLView",
      "description": "",
      "description_tooltip": null,
      "layout": "IPY_MODEL_db92437069df43879a0b92c1c4ff542c",
      "placeholder": "​",
      "style": "IPY_MODEL_f48db490280140e2a1cf3159d5d94973",
      "value": " 1000/1000 [20:51&lt;00:00,  1.24s/it]"
     }
    },
    "09a87471426c4bb7af466ea498015f5b": {
     "model_module": "@jupyter-widgets/controls",
     "model_module_version": "1.5.0",
     "model_name": "DescriptionStyleModel",
     "state": {
      "_model_module": "@jupyter-widgets/controls",
      "_model_module_version": "1.5.0",
      "_model_name": "DescriptionStyleModel",
      "_view_count": null,
      "_view_module": "@jupyter-widgets/base",
      "_view_module_version": "1.2.0",
      "_view_name": "StyleView",
      "description_width": ""
     }
    },
    "0f5555e5a7264bc6a552c2649507590c": {
     "model_module": "@jupyter-widgets/base",
     "model_module_version": "1.2.0",
     "model_name": "LayoutModel",
     "state": {
      "_model_module": "@jupyter-widgets/base",
      "_model_module_version": "1.2.0",
      "_model_name": "LayoutModel",
      "_view_count": null,
      "_view_module": "@jupyter-widgets/base",
      "_view_module_version": "1.2.0",
      "_view_name": "LayoutView",
      "align_content": null,
      "align_items": null,
      "align_self": null,
      "border": null,
      "bottom": null,
      "display": null,
      "flex": null,
      "flex_flow": null,
      "grid_area": null,
      "grid_auto_columns": null,
      "grid_auto_flow": null,
      "grid_auto_rows": null,
      "grid_column": null,
      "grid_gap": null,
      "grid_row": null,
      "grid_template_areas": null,
      "grid_template_columns": null,
      "grid_template_rows": null,
      "height": null,
      "justify_content": null,
      "justify_items": null,
      "left": null,
      "margin": null,
      "max_height": null,
      "max_width": null,
      "min_height": null,
      "min_width": null,
      "object_fit": null,
      "object_position": null,
      "order": null,
      "overflow": null,
      "overflow_x": null,
      "overflow_y": null,
      "padding": null,
      "right": null,
      "top": null,
      "visibility": null,
      "width": null
     }
    },
    "104469d493184a23b71aa12554d19e4d": {
     "model_module": "@jupyter-widgets/controls",
     "model_module_version": "1.5.0",
     "model_name": "ProgressStyleModel",
     "state": {
      "_model_module": "@jupyter-widgets/controls",
      "_model_module_version": "1.5.0",
      "_model_name": "ProgressStyleModel",
      "_view_count": null,
      "_view_module": "@jupyter-widgets/base",
      "_view_module_version": "1.2.0",
      "_view_name": "StyleView",
      "bar_color": null,
      "description_width": ""
     }
    },
    "15e49a200a274dcda5202f09374cb931": {
     "model_module": "@jupyter-widgets/controls",
     "model_module_version": "1.5.0",
     "model_name": "DescriptionStyleModel",
     "state": {
      "_model_module": "@jupyter-widgets/controls",
      "_model_module_version": "1.5.0",
      "_model_name": "DescriptionStyleModel",
      "_view_count": null,
      "_view_module": "@jupyter-widgets/base",
      "_view_module_version": "1.2.0",
      "_view_name": "StyleView",
      "description_width": ""
     }
    },
    "1feeb33f274644eaba18693587165cfd": {
     "model_module": "@jupyter-widgets/controls",
     "model_module_version": "1.5.0",
     "model_name": "FloatProgressModel",
     "state": {
      "_dom_classes": [],
      "_model_module": "@jupyter-widgets/controls",
      "_model_module_version": "1.5.0",
      "_model_name": "FloatProgressModel",
      "_view_count": null,
      "_view_module": "@jupyter-widgets/controls",
      "_view_module_version": "1.5.0",
      "_view_name": "ProgressView",
      "bar_style": "success",
      "description": "",
      "description_tooltip": null,
      "layout": "IPY_MODEL_cb7a8d33ac394dfe983242393e002e6b",
      "max": 1000,
      "min": 0,
      "orientation": "horizontal",
      "style": "IPY_MODEL_e5c27a6fc1b0450ea75c5882b28efa5e",
      "value": 1000
     }
    },
    "20655b01c44f47259aa932462fcd1c6a": {
     "model_module": "@jupyter-widgets/base",
     "model_module_version": "1.2.0",
     "model_name": "LayoutModel",
     "state": {
      "_model_module": "@jupyter-widgets/base",
      "_model_module_version": "1.2.0",
      "_model_name": "LayoutModel",
      "_view_count": null,
      "_view_module": "@jupyter-widgets/base",
      "_view_module_version": "1.2.0",
      "_view_name": "LayoutView",
      "align_content": null,
      "align_items": null,
      "align_self": null,
      "border": null,
      "bottom": null,
      "display": null,
      "flex": null,
      "flex_flow": null,
      "grid_area": null,
      "grid_auto_columns": null,
      "grid_auto_flow": null,
      "grid_auto_rows": null,
      "grid_column": null,
      "grid_gap": null,
      "grid_row": null,
      "grid_template_areas": null,
      "grid_template_columns": null,
      "grid_template_rows": null,
      "height": null,
      "justify_content": null,
      "justify_items": null,
      "left": null,
      "margin": null,
      "max_height": null,
      "max_width": null,
      "min_height": null,
      "min_width": null,
      "object_fit": null,
      "object_position": null,
      "order": null,
      "overflow": null,
      "overflow_x": null,
      "overflow_y": null,
      "padding": null,
      "right": null,
      "top": null,
      "visibility": null,
      "width": null
     }
    },
    "26f5222ff2884196ab5bb480739a45dd": {
     "model_module": "@jupyter-widgets/controls",
     "model_module_version": "1.5.0",
     "model_name": "HTMLModel",
     "state": {
      "_dom_classes": [],
      "_model_module": "@jupyter-widgets/controls",
      "_model_module_version": "1.5.0",
      "_model_name": "HTMLModel",
      "_view_count": null,
      "_view_module": "@jupyter-widgets/controls",
      "_view_module_version": "1.5.0",
      "_view_name": "HTMLView",
      "description": "",
      "description_tooltip": null,
      "layout": "IPY_MODEL_e97b37a3181940ad94d0baa5b5108f7b",
      "placeholder": "​",
      "style": "IPY_MODEL_c425a13c544545aaa1d8be5eca1dfab1",
      "value": " 10/10 [01:25&lt;00:00,  8.83s/it]"
     }
    },
    "28945cf3392247169f990493468820f8": {
     "model_module": "@jupyter-widgets/controls",
     "model_module_version": "1.5.0",
     "model_name": "DescriptionStyleModel",
     "state": {
      "_model_module": "@jupyter-widgets/controls",
      "_model_module_version": "1.5.0",
      "_model_name": "DescriptionStyleModel",
      "_view_count": null,
      "_view_module": "@jupyter-widgets/base",
      "_view_module_version": "1.2.0",
      "_view_name": "StyleView",
      "description_width": ""
     }
    },
    "31e7b7710b61439688e5ac43e6164ce4": {
     "model_module": "@jupyter-widgets/controls",
     "model_module_version": "1.5.0",
     "model_name": "ProgressStyleModel",
     "state": {
      "_model_module": "@jupyter-widgets/controls",
      "_model_module_version": "1.5.0",
      "_model_name": "ProgressStyleModel",
      "_view_count": null,
      "_view_module": "@jupyter-widgets/base",
      "_view_module_version": "1.2.0",
      "_view_name": "StyleView",
      "bar_color": null,
      "description_width": ""
     }
    },
    "3756469ef8ba4aca8045791053401310": {
     "model_module": "@jupyter-widgets/base",
     "model_module_version": "1.2.0",
     "model_name": "LayoutModel",
     "state": {
      "_model_module": "@jupyter-widgets/base",
      "_model_module_version": "1.2.0",
      "_model_name": "LayoutModel",
      "_view_count": null,
      "_view_module": "@jupyter-widgets/base",
      "_view_module_version": "1.2.0",
      "_view_name": "LayoutView",
      "align_content": null,
      "align_items": null,
      "align_self": null,
      "border": null,
      "bottom": null,
      "display": null,
      "flex": null,
      "flex_flow": null,
      "grid_area": null,
      "grid_auto_columns": null,
      "grid_auto_flow": null,
      "grid_auto_rows": null,
      "grid_column": null,
      "grid_gap": null,
      "grid_row": null,
      "grid_template_areas": null,
      "grid_template_columns": null,
      "grid_template_rows": null,
      "height": null,
      "justify_content": null,
      "justify_items": null,
      "left": null,
      "margin": null,
      "max_height": null,
      "max_width": null,
      "min_height": null,
      "min_width": null,
      "object_fit": null,
      "object_position": null,
      "order": null,
      "overflow": null,
      "overflow_x": null,
      "overflow_y": null,
      "padding": null,
      "right": null,
      "top": null,
      "visibility": null,
      "width": null
     }
    },
    "555a558f02d04b71b71d989d58b874fc": {
     "model_module": "@jupyter-widgets/base",
     "model_module_version": "1.2.0",
     "model_name": "LayoutModel",
     "state": {
      "_model_module": "@jupyter-widgets/base",
      "_model_module_version": "1.2.0",
      "_model_name": "LayoutModel",
      "_view_count": null,
      "_view_module": "@jupyter-widgets/base",
      "_view_module_version": "1.2.0",
      "_view_name": "LayoutView",
      "align_content": null,
      "align_items": null,
      "align_self": null,
      "border": null,
      "bottom": null,
      "display": null,
      "flex": null,
      "flex_flow": null,
      "grid_area": null,
      "grid_auto_columns": null,
      "grid_auto_flow": null,
      "grid_auto_rows": null,
      "grid_column": null,
      "grid_gap": null,
      "grid_row": null,
      "grid_template_areas": null,
      "grid_template_columns": null,
      "grid_template_rows": null,
      "height": null,
      "justify_content": null,
      "justify_items": null,
      "left": null,
      "margin": null,
      "max_height": null,
      "max_width": null,
      "min_height": null,
      "min_width": null,
      "object_fit": null,
      "object_position": null,
      "order": null,
      "overflow": null,
      "overflow_x": null,
      "overflow_y": null,
      "padding": null,
      "right": null,
      "top": null,
      "visibility": null,
      "width": null
     }
    },
    "55726d9a8d074fe7892cb18e98cafae8": {
     "model_module": "@jupyter-widgets/controls",
     "model_module_version": "1.5.0",
     "model_name": "FloatProgressModel",
     "state": {
      "_dom_classes": [],
      "_model_module": "@jupyter-widgets/controls",
      "_model_module_version": "1.5.0",
      "_model_name": "FloatProgressModel",
      "_view_count": null,
      "_view_module": "@jupyter-widgets/controls",
      "_view_module_version": "1.5.0",
      "_view_name": "ProgressView",
      "bar_style": "success",
      "description": "",
      "description_tooltip": null,
      "layout": "IPY_MODEL_fd713f6c83594d7d9f3a1cee4c1953b3",
      "max": 10,
      "min": 0,
      "orientation": "horizontal",
      "style": "IPY_MODEL_104469d493184a23b71aa12554d19e4d",
      "value": 10
     }
    },
    "6e4df50a83864c629d949aa2f1c4c586": {
     "model_module": "@jupyter-widgets/controls",
     "model_module_version": "1.5.0",
     "model_name": "HTMLModel",
     "state": {
      "_dom_classes": [],
      "_model_module": "@jupyter-widgets/controls",
      "_model_module_version": "1.5.0",
      "_model_name": "HTMLModel",
      "_view_count": null,
      "_view_module": "@jupyter-widgets/controls",
      "_view_module_version": "1.5.0",
      "_view_name": "HTMLView",
      "description": "",
      "description_tooltip": null,
      "layout": "IPY_MODEL_ba47e53aa1ea4e2facbf32b10ae19079",
      "placeholder": "​",
      "style": "IPY_MODEL_7f44bcef34bd44c4a2cab00d6455db67",
      "value": "100%"
     }
    },
    "71e9d781c8fc420592a50b92dc2b9365": {
     "model_module": "@jupyter-widgets/controls",
     "model_module_version": "1.5.0",
     "model_name": "DescriptionStyleModel",
     "state": {
      "_model_module": "@jupyter-widgets/controls",
      "_model_module_version": "1.5.0",
      "_model_name": "DescriptionStyleModel",
      "_view_count": null,
      "_view_module": "@jupyter-widgets/base",
      "_view_module_version": "1.2.0",
      "_view_name": "StyleView",
      "description_width": ""
     }
    },
    "74fe162400aa43f78da9eeb4ba667251": {
     "model_module": "@jupyter-widgets/controls",
     "model_module_version": "1.5.0",
     "model_name": "ProgressStyleModel",
     "state": {
      "_model_module": "@jupyter-widgets/controls",
      "_model_module_version": "1.5.0",
      "_model_name": "ProgressStyleModel",
      "_view_count": null,
      "_view_module": "@jupyter-widgets/base",
      "_view_module_version": "1.2.0",
      "_view_name": "StyleView",
      "bar_color": null,
      "description_width": ""
     }
    },
    "76342bdf9ead4aefa015097fbc700095": {
     "model_module": "@jupyter-widgets/controls",
     "model_module_version": "1.5.0",
     "model_name": "HBoxModel",
     "state": {
      "_dom_classes": [],
      "_model_module": "@jupyter-widgets/controls",
      "_model_module_version": "1.5.0",
      "_model_name": "HBoxModel",
      "_view_count": null,
      "_view_module": "@jupyter-widgets/controls",
      "_view_module_version": "1.5.0",
      "_view_name": "HBoxView",
      "box_style": "",
      "children": [
       "IPY_MODEL_7942540a5e704c828d69a577025f35fd",
       "IPY_MODEL_92707231d486456bae1fead50f75c8e3",
       "IPY_MODEL_fb7ac82f1037465f9f7a17a6a3937ba9"
      ],
      "layout": "IPY_MODEL_e8910eacc591426db2f66c55e7770478"
     }
    },
    "7828d7cdf74246dca58e3d576e3bf134": {
     "model_module": "@jupyter-widgets/base",
     "model_module_version": "1.2.0",
     "model_name": "LayoutModel",
     "state": {
      "_model_module": "@jupyter-widgets/base",
      "_model_module_version": "1.2.0",
      "_model_name": "LayoutModel",
      "_view_count": null,
      "_view_module": "@jupyter-widgets/base",
      "_view_module_version": "1.2.0",
      "_view_name": "LayoutView",
      "align_content": null,
      "align_items": null,
      "align_self": null,
      "border": null,
      "bottom": null,
      "display": null,
      "flex": null,
      "flex_flow": null,
      "grid_area": null,
      "grid_auto_columns": null,
      "grid_auto_flow": null,
      "grid_auto_rows": null,
      "grid_column": null,
      "grid_gap": null,
      "grid_row": null,
      "grid_template_areas": null,
      "grid_template_columns": null,
      "grid_template_rows": null,
      "height": null,
      "justify_content": null,
      "justify_items": null,
      "left": null,
      "margin": null,
      "max_height": null,
      "max_width": null,
      "min_height": null,
      "min_width": null,
      "object_fit": null,
      "object_position": null,
      "order": null,
      "overflow": null,
      "overflow_x": null,
      "overflow_y": null,
      "padding": null,
      "right": null,
      "top": null,
      "visibility": null,
      "width": null
     }
    },
    "7942540a5e704c828d69a577025f35fd": {
     "model_module": "@jupyter-widgets/controls",
     "model_module_version": "1.5.0",
     "model_name": "HTMLModel",
     "state": {
      "_dom_classes": [],
      "_model_module": "@jupyter-widgets/controls",
      "_model_module_version": "1.5.0",
      "_model_name": "HTMLModel",
      "_view_count": null,
      "_view_module": "@jupyter-widgets/controls",
      "_view_module_version": "1.5.0",
      "_view_name": "HTMLView",
      "description": "",
      "description_tooltip": null,
      "layout": "IPY_MODEL_7828d7cdf74246dca58e3d576e3bf134",
      "placeholder": "​",
      "style": "IPY_MODEL_71e9d781c8fc420592a50b92dc2b9365",
      "value": "100%"
     }
    },
    "7a5ba4509142458d84fd32312129899e": {
     "model_module": "@jupyter-widgets/controls",
     "model_module_version": "1.5.0",
     "model_name": "FloatProgressModel",
     "state": {
      "_dom_classes": [],
      "_model_module": "@jupyter-widgets/controls",
      "_model_module_version": "1.5.0",
      "_model_name": "FloatProgressModel",
      "_view_count": null,
      "_view_module": "@jupyter-widgets/controls",
      "_view_module_version": "1.5.0",
      "_view_name": "ProgressView",
      "bar_style": "success",
      "description": "",
      "description_tooltip": null,
      "layout": "IPY_MODEL_f4b7d4ba21a4455b9153161feaa00b95",
      "max": 1000,
      "min": 0,
      "orientation": "horizontal",
      "style": "IPY_MODEL_74fe162400aa43f78da9eeb4ba667251",
      "value": 1000
     }
    },
    "7bab5f2fb8b2429c9954943a7a2f6792": {
     "model_module": "@jupyter-widgets/controls",
     "model_module_version": "1.5.0",
     "model_name": "HBoxModel",
     "state": {
      "_dom_classes": [],
      "_model_module": "@jupyter-widgets/controls",
      "_model_module_version": "1.5.0",
      "_model_name": "HBoxModel",
      "_view_count": null,
      "_view_module": "@jupyter-widgets/controls",
      "_view_module_version": "1.5.0",
      "_view_name": "HBoxView",
      "box_style": "",
      "children": [
       "IPY_MODEL_96100996199a430f9548a9ff07fae283",
       "IPY_MODEL_1feeb33f274644eaba18693587165cfd",
       "IPY_MODEL_049134f1e4ef423d92369c2b6c40bcd8"
      ],
      "layout": "IPY_MODEL_993ea038afe74b5eb0c0faaab19de846"
     }
    },
    "7f44bcef34bd44c4a2cab00d6455db67": {
     "model_module": "@jupyter-widgets/controls",
     "model_module_version": "1.5.0",
     "model_name": "DescriptionStyleModel",
     "state": {
      "_model_module": "@jupyter-widgets/controls",
      "_model_module_version": "1.5.0",
      "_model_name": "DescriptionStyleModel",
      "_view_count": null,
      "_view_module": "@jupyter-widgets/base",
      "_view_module_version": "1.2.0",
      "_view_name": "StyleView",
      "description_width": ""
     }
    },
    "83f63d44077e45bd805f53158de313bd": {
     "model_module": "@jupyter-widgets/base",
     "model_module_version": "1.2.0",
     "model_name": "LayoutModel",
     "state": {
      "_model_module": "@jupyter-widgets/base",
      "_model_module_version": "1.2.0",
      "_model_name": "LayoutModel",
      "_view_count": null,
      "_view_module": "@jupyter-widgets/base",
      "_view_module_version": "1.2.0",
      "_view_name": "LayoutView",
      "align_content": null,
      "align_items": null,
      "align_self": null,
      "border": null,
      "bottom": null,
      "display": null,
      "flex": null,
      "flex_flow": null,
      "grid_area": null,
      "grid_auto_columns": null,
      "grid_auto_flow": null,
      "grid_auto_rows": null,
      "grid_column": null,
      "grid_gap": null,
      "grid_row": null,
      "grid_template_areas": null,
      "grid_template_columns": null,
      "grid_template_rows": null,
      "height": null,
      "justify_content": null,
      "justify_items": null,
      "left": null,
      "margin": null,
      "max_height": null,
      "max_width": null,
      "min_height": null,
      "min_width": null,
      "object_fit": null,
      "object_position": null,
      "order": null,
      "overflow": null,
      "overflow_x": null,
      "overflow_y": null,
      "padding": null,
      "right": null,
      "top": null,
      "visibility": null,
      "width": null
     }
    },
    "92707231d486456bae1fead50f75c8e3": {
     "model_module": "@jupyter-widgets/controls",
     "model_module_version": "1.5.0",
     "model_name": "FloatProgressModel",
     "state": {
      "_dom_classes": [],
      "_model_module": "@jupyter-widgets/controls",
      "_model_module_version": "1.5.0",
      "_model_name": "FloatProgressModel",
      "_view_count": null,
      "_view_module": "@jupyter-widgets/controls",
      "_view_module_version": "1.5.0",
      "_view_name": "ProgressView",
      "bar_style": "success",
      "description": "",
      "description_tooltip": null,
      "layout": "IPY_MODEL_20655b01c44f47259aa932462fcd1c6a",
      "max": 10,
      "min": 0,
      "orientation": "horizontal",
      "style": "IPY_MODEL_31e7b7710b61439688e5ac43e6164ce4",
      "value": 10
     }
    },
    "96100996199a430f9548a9ff07fae283": {
     "model_module": "@jupyter-widgets/controls",
     "model_module_version": "1.5.0",
     "model_name": "HTMLModel",
     "state": {
      "_dom_classes": [],
      "_model_module": "@jupyter-widgets/controls",
      "_model_module_version": "1.5.0",
      "_model_name": "HTMLModel",
      "_view_count": null,
      "_view_module": "@jupyter-widgets/controls",
      "_view_module_version": "1.5.0",
      "_view_name": "HTMLView",
      "description": "",
      "description_tooltip": null,
      "layout": "IPY_MODEL_83f63d44077e45bd805f53158de313bd",
      "placeholder": "​",
      "style": "IPY_MODEL_28945cf3392247169f990493468820f8",
      "value": "100%"
     }
    },
    "993ea038afe74b5eb0c0faaab19de846": {
     "model_module": "@jupyter-widgets/base",
     "model_module_version": "1.2.0",
     "model_name": "LayoutModel",
     "state": {
      "_model_module": "@jupyter-widgets/base",
      "_model_module_version": "1.2.0",
      "_model_name": "LayoutModel",
      "_view_count": null,
      "_view_module": "@jupyter-widgets/base",
      "_view_module_version": "1.2.0",
      "_view_name": "LayoutView",
      "align_content": null,
      "align_items": null,
      "align_self": null,
      "border": null,
      "bottom": null,
      "display": null,
      "flex": null,
      "flex_flow": null,
      "grid_area": null,
      "grid_auto_columns": null,
      "grid_auto_flow": null,
      "grid_auto_rows": null,
      "grid_column": null,
      "grid_gap": null,
      "grid_row": null,
      "grid_template_areas": null,
      "grid_template_columns": null,
      "grid_template_rows": null,
      "height": null,
      "justify_content": null,
      "justify_items": null,
      "left": null,
      "margin": null,
      "max_height": null,
      "max_width": null,
      "min_height": null,
      "min_width": null,
      "object_fit": null,
      "object_position": null,
      "order": null,
      "overflow": null,
      "overflow_x": null,
      "overflow_y": null,
      "padding": null,
      "right": null,
      "top": null,
      "visibility": null,
      "width": null
     }
    },
    "9b73f78a582a486aaa77daf659f633d3": {
     "model_module": "@jupyter-widgets/controls",
     "model_module_version": "1.5.0",
     "model_name": "HTMLModel",
     "state": {
      "_dom_classes": [],
      "_model_module": "@jupyter-widgets/controls",
      "_model_module_version": "1.5.0",
      "_model_name": "HTMLModel",
      "_view_count": null,
      "_view_module": "@jupyter-widgets/controls",
      "_view_module_version": "1.5.0",
      "_view_name": "HTMLView",
      "description": "",
      "description_tooltip": null,
      "layout": "IPY_MODEL_bb1288bfac5c406e850e318614e4439d",
      "placeholder": "​",
      "style": "IPY_MODEL_09a87471426c4bb7af466ea498015f5b",
      "value": "100%"
     }
    },
    "b27ac689ff644ad290d35ccdfd2003aa": {
     "model_module": "@jupyter-widgets/base",
     "model_module_version": "1.2.0",
     "model_name": "LayoutModel",
     "state": {
      "_model_module": "@jupyter-widgets/base",
      "_model_module_version": "1.2.0",
      "_model_name": "LayoutModel",
      "_view_count": null,
      "_view_module": "@jupyter-widgets/base",
      "_view_module_version": "1.2.0",
      "_view_name": "LayoutView",
      "align_content": null,
      "align_items": null,
      "align_self": null,
      "border": null,
      "bottom": null,
      "display": null,
      "flex": null,
      "flex_flow": null,
      "grid_area": null,
      "grid_auto_columns": null,
      "grid_auto_flow": null,
      "grid_auto_rows": null,
      "grid_column": null,
      "grid_gap": null,
      "grid_row": null,
      "grid_template_areas": null,
      "grid_template_columns": null,
      "grid_template_rows": null,
      "height": null,
      "justify_content": null,
      "justify_items": null,
      "left": null,
      "margin": null,
      "max_height": null,
      "max_width": null,
      "min_height": null,
      "min_width": null,
      "object_fit": null,
      "object_position": null,
      "order": null,
      "overflow": null,
      "overflow_x": null,
      "overflow_y": null,
      "padding": null,
      "right": null,
      "top": null,
      "visibility": null,
      "width": null
     }
    },
    "ba47e53aa1ea4e2facbf32b10ae19079": {
     "model_module": "@jupyter-widgets/base",
     "model_module_version": "1.2.0",
     "model_name": "LayoutModel",
     "state": {
      "_model_module": "@jupyter-widgets/base",
      "_model_module_version": "1.2.0",
      "_model_name": "LayoutModel",
      "_view_count": null,
      "_view_module": "@jupyter-widgets/base",
      "_view_module_version": "1.2.0",
      "_view_name": "LayoutView",
      "align_content": null,
      "align_items": null,
      "align_self": null,
      "border": null,
      "bottom": null,
      "display": null,
      "flex": null,
      "flex_flow": null,
      "grid_area": null,
      "grid_auto_columns": null,
      "grid_auto_flow": null,
      "grid_auto_rows": null,
      "grid_column": null,
      "grid_gap": null,
      "grid_row": null,
      "grid_template_areas": null,
      "grid_template_columns": null,
      "grid_template_rows": null,
      "height": null,
      "justify_content": null,
      "justify_items": null,
      "left": null,
      "margin": null,
      "max_height": null,
      "max_width": null,
      "min_height": null,
      "min_width": null,
      "object_fit": null,
      "object_position": null,
      "order": null,
      "overflow": null,
      "overflow_x": null,
      "overflow_y": null,
      "padding": null,
      "right": null,
      "top": null,
      "visibility": null,
      "width": null
     }
    },
    "bb1288bfac5c406e850e318614e4439d": {
     "model_module": "@jupyter-widgets/base",
     "model_module_version": "1.2.0",
     "model_name": "LayoutModel",
     "state": {
      "_model_module": "@jupyter-widgets/base",
      "_model_module_version": "1.2.0",
      "_model_name": "LayoutModel",
      "_view_count": null,
      "_view_module": "@jupyter-widgets/base",
      "_view_module_version": "1.2.0",
      "_view_name": "LayoutView",
      "align_content": null,
      "align_items": null,
      "align_self": null,
      "border": null,
      "bottom": null,
      "display": null,
      "flex": null,
      "flex_flow": null,
      "grid_area": null,
      "grid_auto_columns": null,
      "grid_auto_flow": null,
      "grid_auto_rows": null,
      "grid_column": null,
      "grid_gap": null,
      "grid_row": null,
      "grid_template_areas": null,
      "grid_template_columns": null,
      "grid_template_rows": null,
      "height": null,
      "justify_content": null,
      "justify_items": null,
      "left": null,
      "margin": null,
      "max_height": null,
      "max_width": null,
      "min_height": null,
      "min_width": null,
      "object_fit": null,
      "object_position": null,
      "order": null,
      "overflow": null,
      "overflow_x": null,
      "overflow_y": null,
      "padding": null,
      "right": null,
      "top": null,
      "visibility": null,
      "width": null
     }
    },
    "c425a13c544545aaa1d8be5eca1dfab1": {
     "model_module": "@jupyter-widgets/controls",
     "model_module_version": "1.5.0",
     "model_name": "DescriptionStyleModel",
     "state": {
      "_model_module": "@jupyter-widgets/controls",
      "_model_module_version": "1.5.0",
      "_model_name": "DescriptionStyleModel",
      "_view_count": null,
      "_view_module": "@jupyter-widgets/base",
      "_view_module_version": "1.2.0",
      "_view_name": "StyleView",
      "description_width": ""
     }
    },
    "cb7a8d33ac394dfe983242393e002e6b": {
     "model_module": "@jupyter-widgets/base",
     "model_module_version": "1.2.0",
     "model_name": "LayoutModel",
     "state": {
      "_model_module": "@jupyter-widgets/base",
      "_model_module_version": "1.2.0",
      "_model_name": "LayoutModel",
      "_view_count": null,
      "_view_module": "@jupyter-widgets/base",
      "_view_module_version": "1.2.0",
      "_view_name": "LayoutView",
      "align_content": null,
      "align_items": null,
      "align_self": null,
      "border": null,
      "bottom": null,
      "display": null,
      "flex": null,
      "flex_flow": null,
      "grid_area": null,
      "grid_auto_columns": null,
      "grid_auto_flow": null,
      "grid_auto_rows": null,
      "grid_column": null,
      "grid_gap": null,
      "grid_row": null,
      "grid_template_areas": null,
      "grid_template_columns": null,
      "grid_template_rows": null,
      "height": null,
      "justify_content": null,
      "justify_items": null,
      "left": null,
      "margin": null,
      "max_height": null,
      "max_width": null,
      "min_height": null,
      "min_width": null,
      "object_fit": null,
      "object_position": null,
      "order": null,
      "overflow": null,
      "overflow_x": null,
      "overflow_y": null,
      "padding": null,
      "right": null,
      "top": null,
      "visibility": null,
      "width": null
     }
    },
    "d7a1a0e021b243bd8f88cea124501951": {
     "model_module": "@jupyter-widgets/controls",
     "model_module_version": "1.5.0",
     "model_name": "HTMLModel",
     "state": {
      "_dom_classes": [],
      "_model_module": "@jupyter-widgets/controls",
      "_model_module_version": "1.5.0",
      "_model_name": "HTMLModel",
      "_view_count": null,
      "_view_module": "@jupyter-widgets/controls",
      "_view_module_version": "1.5.0",
      "_view_name": "HTMLView",
      "description": "",
      "description_tooltip": null,
      "layout": "IPY_MODEL_0f5555e5a7264bc6a552c2649507590c",
      "placeholder": "​",
      "style": "IPY_MODEL_03e663201d714452820c026213433fab",
      "value": " 1000/1000 [15:01&lt;00:00,  1.12it/s]"
     }
    },
    "db92437069df43879a0b92c1c4ff542c": {
     "model_module": "@jupyter-widgets/base",
     "model_module_version": "1.2.0",
     "model_name": "LayoutModel",
     "state": {
      "_model_module": "@jupyter-widgets/base",
      "_model_module_version": "1.2.0",
      "_model_name": "LayoutModel",
      "_view_count": null,
      "_view_module": "@jupyter-widgets/base",
      "_view_module_version": "1.2.0",
      "_view_name": "LayoutView",
      "align_content": null,
      "align_items": null,
      "align_self": null,
      "border": null,
      "bottom": null,
      "display": null,
      "flex": null,
      "flex_flow": null,
      "grid_area": null,
      "grid_auto_columns": null,
      "grid_auto_flow": null,
      "grid_auto_rows": null,
      "grid_column": null,
      "grid_gap": null,
      "grid_row": null,
      "grid_template_areas": null,
      "grid_template_columns": null,
      "grid_template_rows": null,
      "height": null,
      "justify_content": null,
      "justify_items": null,
      "left": null,
      "margin": null,
      "max_height": null,
      "max_width": null,
      "min_height": null,
      "min_width": null,
      "object_fit": null,
      "object_position": null,
      "order": null,
      "overflow": null,
      "overflow_x": null,
      "overflow_y": null,
      "padding": null,
      "right": null,
      "top": null,
      "visibility": null,
      "width": null
     }
    },
    "e5c27a6fc1b0450ea75c5882b28efa5e": {
     "model_module": "@jupyter-widgets/controls",
     "model_module_version": "1.5.0",
     "model_name": "ProgressStyleModel",
     "state": {
      "_model_module": "@jupyter-widgets/controls",
      "_model_module_version": "1.5.0",
      "_model_name": "ProgressStyleModel",
      "_view_count": null,
      "_view_module": "@jupyter-widgets/base",
      "_view_module_version": "1.2.0",
      "_view_name": "StyleView",
      "bar_color": null,
      "description_width": ""
     }
    },
    "e8910eacc591426db2f66c55e7770478": {
     "model_module": "@jupyter-widgets/base",
     "model_module_version": "1.2.0",
     "model_name": "LayoutModel",
     "state": {
      "_model_module": "@jupyter-widgets/base",
      "_model_module_version": "1.2.0",
      "_model_name": "LayoutModel",
      "_view_count": null,
      "_view_module": "@jupyter-widgets/base",
      "_view_module_version": "1.2.0",
      "_view_name": "LayoutView",
      "align_content": null,
      "align_items": null,
      "align_self": null,
      "border": null,
      "bottom": null,
      "display": null,
      "flex": null,
      "flex_flow": null,
      "grid_area": null,
      "grid_auto_columns": null,
      "grid_auto_flow": null,
      "grid_auto_rows": null,
      "grid_column": null,
      "grid_gap": null,
      "grid_row": null,
      "grid_template_areas": null,
      "grid_template_columns": null,
      "grid_template_rows": null,
      "height": null,
      "justify_content": null,
      "justify_items": null,
      "left": null,
      "margin": null,
      "max_height": null,
      "max_width": null,
      "min_height": null,
      "min_width": null,
      "object_fit": null,
      "object_position": null,
      "order": null,
      "overflow": null,
      "overflow_x": null,
      "overflow_y": null,
      "padding": null,
      "right": null,
      "top": null,
      "visibility": null,
      "width": null
     }
    },
    "e97b37a3181940ad94d0baa5b5108f7b": {
     "model_module": "@jupyter-widgets/base",
     "model_module_version": "1.2.0",
     "model_name": "LayoutModel",
     "state": {
      "_model_module": "@jupyter-widgets/base",
      "_model_module_version": "1.2.0",
      "_model_name": "LayoutModel",
      "_view_count": null,
      "_view_module": "@jupyter-widgets/base",
      "_view_module_version": "1.2.0",
      "_view_name": "LayoutView",
      "align_content": null,
      "align_items": null,
      "align_self": null,
      "border": null,
      "bottom": null,
      "display": null,
      "flex": null,
      "flex_flow": null,
      "grid_area": null,
      "grid_auto_columns": null,
      "grid_auto_flow": null,
      "grid_auto_rows": null,
      "grid_column": null,
      "grid_gap": null,
      "grid_row": null,
      "grid_template_areas": null,
      "grid_template_columns": null,
      "grid_template_rows": null,
      "height": null,
      "justify_content": null,
      "justify_items": null,
      "left": null,
      "margin": null,
      "max_height": null,
      "max_width": null,
      "min_height": null,
      "min_width": null,
      "object_fit": null,
      "object_position": null,
      "order": null,
      "overflow": null,
      "overflow_x": null,
      "overflow_y": null,
      "padding": null,
      "right": null,
      "top": null,
      "visibility": null,
      "width": null
     }
    },
    "f48db490280140e2a1cf3159d5d94973": {
     "model_module": "@jupyter-widgets/controls",
     "model_module_version": "1.5.0",
     "model_name": "DescriptionStyleModel",
     "state": {
      "_model_module": "@jupyter-widgets/controls",
      "_model_module_version": "1.5.0",
      "_model_name": "DescriptionStyleModel",
      "_view_count": null,
      "_view_module": "@jupyter-widgets/base",
      "_view_module_version": "1.2.0",
      "_view_name": "StyleView",
      "description_width": ""
     }
    },
    "f4b7d4ba21a4455b9153161feaa00b95": {
     "model_module": "@jupyter-widgets/base",
     "model_module_version": "1.2.0",
     "model_name": "LayoutModel",
     "state": {
      "_model_module": "@jupyter-widgets/base",
      "_model_module_version": "1.2.0",
      "_model_name": "LayoutModel",
      "_view_count": null,
      "_view_module": "@jupyter-widgets/base",
      "_view_module_version": "1.2.0",
      "_view_name": "LayoutView",
      "align_content": null,
      "align_items": null,
      "align_self": null,
      "border": null,
      "bottom": null,
      "display": null,
      "flex": null,
      "flex_flow": null,
      "grid_area": null,
      "grid_auto_columns": null,
      "grid_auto_flow": null,
      "grid_auto_rows": null,
      "grid_column": null,
      "grid_gap": null,
      "grid_row": null,
      "grid_template_areas": null,
      "grid_template_columns": null,
      "grid_template_rows": null,
      "height": null,
      "justify_content": null,
      "justify_items": null,
      "left": null,
      "margin": null,
      "max_height": null,
      "max_width": null,
      "min_height": null,
      "min_width": null,
      "object_fit": null,
      "object_position": null,
      "order": null,
      "overflow": null,
      "overflow_x": null,
      "overflow_y": null,
      "padding": null,
      "right": null,
      "top": null,
      "visibility": null,
      "width": null
     }
    },
    "fb7ac82f1037465f9f7a17a6a3937ba9": {
     "model_module": "@jupyter-widgets/controls",
     "model_module_version": "1.5.0",
     "model_name": "HTMLModel",
     "state": {
      "_dom_classes": [],
      "_model_module": "@jupyter-widgets/controls",
      "_model_module_version": "1.5.0",
      "_model_name": "HTMLModel",
      "_view_count": null,
      "_view_module": "@jupyter-widgets/controls",
      "_view_module_version": "1.5.0",
      "_view_name": "HTMLView",
      "description": "",
      "description_tooltip": null,
      "layout": "IPY_MODEL_3756469ef8ba4aca8045791053401310",
      "placeholder": "​",
      "style": "IPY_MODEL_15e49a200a274dcda5202f09374cb931",
      "value": " 10/10 [00:12&lt;00:00,  1.26s/it]"
     }
    },
    "fd713f6c83594d7d9f3a1cee4c1953b3": {
     "model_module": "@jupyter-widgets/base",
     "model_module_version": "1.2.0",
     "model_name": "LayoutModel",
     "state": {
      "_model_module": "@jupyter-widgets/base",
      "_model_module_version": "1.2.0",
      "_model_name": "LayoutModel",
      "_view_count": null,
      "_view_module": "@jupyter-widgets/base",
      "_view_module_version": "1.2.0",
      "_view_name": "LayoutView",
      "align_content": null,
      "align_items": null,
      "align_self": null,
      "border": null,
      "bottom": null,
      "display": null,
      "flex": null,
      "flex_flow": null,
      "grid_area": null,
      "grid_auto_columns": null,
      "grid_auto_flow": null,
      "grid_auto_rows": null,
      "grid_column": null,
      "grid_gap": null,
      "grid_row": null,
      "grid_template_areas": null,
      "grid_template_columns": null,
      "grid_template_rows": null,
      "height": null,
      "justify_content": null,
      "justify_items": null,
      "left": null,
      "margin": null,
      "max_height": null,
      "max_width": null,
      "min_height": null,
      "min_width": null,
      "object_fit": null,
      "object_position": null,
      "order": null,
      "overflow": null,
      "overflow_x": null,
      "overflow_y": null,
      "padding": null,
      "right": null,
      "top": null,
      "visibility": null,
      "width": null
     }
    }
   }
  }
 },
 "nbformat": 4,
 "nbformat_minor": 4
}
